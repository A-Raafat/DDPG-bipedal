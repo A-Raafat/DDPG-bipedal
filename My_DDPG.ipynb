{
 "cells": [
  {
   "cell_type": "code",
   "execution_count": 1,
   "metadata": {
    "colab": {},
    "colab_type": "code",
    "id": "peul6Q9rZRWR"
   },
   "outputs": [],
   "source": [
    "import numpy as np\n",
    "import torch\n",
    "import torch.nn as nn\n",
    "import torch.nn.functional as F\n",
    "import torch.optim as optim\n",
    "import gym\n",
    "import random\n",
    "from collections import deque, namedtuple\n",
    "import matplotlib.pyplot as plt\n",
    "%matplotlib inline\n",
    "device = torch.device(\"cuda:0\" if torch.cuda.is_available() else \"cpu\")"
   ]
  },
  {
   "cell_type": "code",
   "execution_count": 2,
   "metadata": {
    "colab": {
     "base_uri": "https://localhost:8080/",
     "height": 187
    },
    "colab_type": "code",
    "id": "3MTEv7rdZRW1",
    "outputId": "393f1e08-5a1b-42d3-f746-40cf0e553afe"
   },
   "outputs": [
    {
     "name": "stdout",
     "output_type": "stream",
     "text": [
      "Action dimension :  (4,)\n",
      "State  dimension :  (24,)\n",
      "Action sample :  [0.09762701 0.43037874 0.20552675 0.08976637]\n",
      "State sample  : \n",
      "  [ 2.74646818e-03  6.54533971e-06 -8.53474494e-04 -1.60000443e-02\n",
      "  9.23600048e-02  1.98129308e-03  8.59931901e-01 -1.72333869e-04\n",
      "  1.00000000e+00  3.27102654e-02  1.98121043e-03  8.53600875e-01\n",
      " -1.34810635e-03  1.00000000e+00  4.40813571e-01  4.45819676e-01\n",
      "  4.61422324e-01  4.89549696e-01  5.34102261e-01  6.02460444e-01\n",
      "  7.09148169e-01  8.85930896e-01  1.00000000e+00  1.00000000e+00]\n"
     ]
    }
   ],
   "source": [
    "env = gym.make('BipedalWalker-v2')\n",
    "env.seed(0)\n",
    "print(\"Action dimension : \",env.action_space.shape)\n",
    "print(\"State  dimension : \",env.observation_space.shape)\n",
    "print(\"Action sample : \",env.action_space.sample())\n",
    "print(\"State sample  : \\n \",env.reset())"
   ]
  },
  {
   "cell_type": "code",
   "execution_count": 3,
   "metadata": {
    "colab": {},
    "colab_type": "code",
    "id": "QvQ-_1KGZRXd"
   },
   "outputs": [],
   "source": [
    "class Actor(nn.Module):\n",
    "    def __init__(self, state_size=24, action_size=4, fc_layer=64):\n",
    "        super(Actor, self).__init__()\n",
    "        self.state_size = state_size\n",
    "        self.action_size= action_size\n",
    "        self.Layer_in = nn.Linear(state_size, fc_layer)\n",
    "        self.Layer_out= nn.Linear(fc_layer, action_size)\n",
    "        \n",
    "    def forward(self, state):\n",
    "        x = F.relu(self.Layer_in(state))\n",
    "        x = F.tanh(self.Layer_out(x))\n",
    "        return x\n",
    "    \n",
    "class Critic(nn.Module):\n",
    "    def __init__(self, state_size=24, action_size=4, fc1_layer=256, fc2_layer=128):\n",
    "        super(Critic, self).__init__()\n",
    "        self.state_size = state_size\n",
    "        self.action_size= action_size\n",
    "        self.Layer_1 = nn.Linear(state_size, fc1_layer)\n",
    "        self.Layer_2 = nn.Linear(fc1_layer+action_size, fc2_layer)\n",
    "        self.Layer_3 = nn.Linear(fc2_layer, 1)\n",
    "        \n",
    "    def forward(self, state, action):\n",
    "        x = F.relu(self.Layer_1(state))\n",
    "        x = torch.cat((x, action), dim=1)\n",
    "        x = F.relu(self.Layer_2(x))\n",
    "        x = F.relu(self.Layer_3(x))\n",
    "        return x    \n",
    "    \n",
    "class ReplayBuffer:\n",
    "    def __init__(self, action_size, buffer_size, batch_size):\n",
    "        self.action_size = action_size\n",
    "        self.memory = deque(maxlen=buffer_size)  \n",
    "        self.batch_size = batch_size\n",
    "        self.experience = namedtuple(\"Experience\", field_names=[\"state\", \"action\", \"reward\", \"next_state\", \"done\"])\n",
    "        \n",
    "    \n",
    "    def add(self, state, action, reward, next_state, done):\n",
    "        e = self.experience(state, action, reward, next_state, done)\n",
    "        self.memory.append(e)\n",
    "    \n",
    "    def sample(self):\n",
    "        experiences = random.sample(self.memory, k=self.batch_size)\n",
    "\n",
    "        states = torch.from_numpy(np.vstack([e.state for e in experiences if e is not None])).float().to(device)\n",
    "        actions = torch.from_numpy(np.vstack([e.action for e in experiences if e is not None])).float().to(device)\n",
    "        rewards = torch.from_numpy(np.vstack([e.reward for e in experiences if e is not None])).float().to(device)\n",
    "        next_states = torch.from_numpy(np.vstack([e.next_state for e in experiences if e is not None])).float().to(device)\n",
    "        dones = torch.from_numpy(np.vstack([e.done for e in experiences if e is not None]).astype(np.uint8)).float().to(device)\n",
    "\n",
    "        return (states, actions, rewards, next_states, dones)"
   ]
  },
  {
   "cell_type": "code",
   "execution_count": 4,
   "metadata": {
    "colab": {},
    "colab_type": "code",
    "id": "XBtyQMlOZRX6"
   },
   "outputs": [],
   "source": [
    "buffer_size = int(1e6)\n",
    "batch_size = 128\n",
    "tau=0.999\n",
    "\n",
    "class Agent():\n",
    "    def __init__(self, state_size=24, action_size=4):\n",
    "        self.state_size = state_size\n",
    "        self.action_size = action_size   \n",
    "        \n",
    "        self.train_actor = Actor().to(device)\n",
    "        self.target_actor= Actor().to(device)\n",
    "        self.actor_optim = optim.Adam(self.train_actor.parameters(), lr=0.0001)\n",
    "        \n",
    "        self.train_critic = Critic().to(device)\n",
    "        self.target_critic= Critic().to(device)\n",
    "        self.critic_optim = optim.Adam(self.train_critic.parameters(), lr=0.0001)\n",
    "        \n",
    "        self.memory= ReplayBuffer(action_size= action_size, buffer_size= buffer_size, batch_size= batch_size)\n",
    "        \n",
    "    def learn_with_batches(self, state, action, reward, next_state, done):\n",
    "        self.memory.add(state, action, reward, next_state, done)\n",
    "        \n",
    "        if(len(self.memory)>batch_size):\n",
    "            exp=self.memory.sample()\n",
    "            self.learn(exp)\n",
    "            \n",
    "    def learn(self, exp):\n",
    "        states, actions, rewards, next_states, done= exp\n",
    "        \n",
    "        #update critic\n",
    "        next_actions = self.target_actor(next_states)\n",
    "        Q_targets_next = self.target_critic(next_states, next_actions)\n",
    "        \n",
    "        Q_targets = rewards + (0.99 * Q_targets_next)\n",
    "        \n",
    "        Q_expected = self.train_critic(states, actions)\n",
    "        \n",
    "        critic_loss = F.mse_loss(Q_expected, Q_targets)\n",
    "        \n",
    "        self.critic_optim.zero_grad()\n",
    "        critic_loss.backward()\n",
    "        self.critic_optim.step()\n",
    "        \n",
    "        #update actor\n",
    "        actions_pred = self.train_actor(states)\n",
    "        actor_loss = -self.train_critic(states, actions_pred).mean()\n",
    "        \n",
    "        self.actor_optim.zero_grad()\n",
    "        actor_loss.backward()\n",
    "        self.actor_optim.step()\n",
    "        \n",
    "        #using soft upates\n",
    "        self.soft_update(self.train_actor, self.target_actor)\n",
    "        self.soft_update(self.train_critic, self.target_critic)\n",
    "        \n",
    "            \n",
    "    def get_action(self, state):\n",
    "        state = torch.from_numpy(state).float().to(device)\n",
    "        self.train_actor.eval()\n",
    "        with torch.no_grad():\n",
    "            action= self.train_actor(state).cpu().data.numpy()\n",
    "        self.train_actor.train()\n",
    "        return action\n",
    "    \n",
    "    def soft_update(self, local_model, target_model, tau=0.001):\n",
    "        for target_param, local_param in zip(target_model.parameters(), local_model.parameters()):\n",
    "            target_param.data.copy_(tau*local_param.data + (1.0-tau)*target_param.data)"
   ]
  },
  {
   "cell_type": "code",
   "execution_count": 5,
   "metadata": {
    "colab": {},
    "colab_type": "code",
    "id": "w5NDqPcgZRYU"
   },
   "outputs": [],
   "source": [
    "agent= Agent()"
   ]
  },
  {
   "cell_type": "code",
   "execution_count": 6,
   "metadata": {
    "colab": {
     "base_uri": "https://localhost:8080/",
     "height": 728
    },
    "colab_type": "code",
    "id": "m1kf5J2NZRYr",
    "outputId": "75cfed86-e0d4-4728-cc31-df3bdd1542df"
   },
   "outputs": [
    {
     "name": "stderr",
     "output_type": "stream",
     "text": [
      "/usr/local/lib/python3.6/dist-packages/torch/nn/functional.py:1339: UserWarning: nn.functional.tanh is deprecated. Use torch.tanh instead.\n",
      "  warnings.warn(\"nn.functional.tanh is deprecated. Use torch.tanh instead.\")\n"
     ]
    },
    {
     "name": "stdout",
     "output_type": "stream",
     "text": [
      "Episode 100\tAverage Score: -108.15\n",
      "Episode 200\tAverage Score: -115.56\n",
      "Episode 300\tAverage Score: -111.66\n",
      "Episode 400\tAverage Score: -107.01\n",
      "Episode 500\tAverage Score: -102.13\n",
      "Episode 600\tAverage Score: -104.88\n",
      "Episode 700\tAverage Score: -96.71\n",
      "Episode 800\tAverage Score: -92.36\n",
      "Episode 900\tAverage Score: -95.48\n",
      "Episode 1000\tAverage Score: -96.09\n",
      "Episode 1100\tAverage Score: -102.82\n",
      "Episode 1200\tAverage Score: -106.64\n",
      "Episode 1300\tAverage Score: -94.07\n",
      "Episode 1400\tAverage Score: -75.44\n",
      "Episode 1500\tAverage Score: -70.50\n",
      "Episode 1600\tAverage Score: -72.68\n",
      "Episode 1700\tAverage Score: 19.58\n",
      "Episode 1800\tAverage Score: 91.10\n",
      "Episode 1900\tAverage Score: 93.20\n",
      "Episode 2000\tAverage Score: 85.21\n",
      "Episode 2100\tAverage Score: 134.04\n",
      "Episode 2200\tAverage Score: 129.25\n",
      "Episode 2215\tAverage Score: 124.08\tScore: 201.33"
     ]
    },
    {
     "data": {
      "image/png": "[encoded data removed]",
      "text/plain": [
       "<Figure size 432x288 with 1 Axes>"
      ]
     },
     "metadata": {
      "tags": []
     },
     "output_type": "display_data"
    }
   ],
   "source": [
    "def ddpg(n_episodes=5000, max_t=700):\n",
    "    scores_deque = deque(maxlen=100)\n",
    "    scores = []\n",
    "    max_score = -np.Inf\n",
    "    for i_episode in range(1, n_episodes+1):\n",
    "        state = env.reset()\n",
    "        score = 0\n",
    "        for t in range(max_t):\n",
    "            action = agent.get_action(state)\n",
    "            next_state, reward, done, _ = env.step(action)\n",
    "            agent.learn_with_batches(state, action, reward, next_state, done)\n",
    "            state = next_state\n",
    "            score += reward\n",
    "            if done:\n",
    "                break \n",
    "        scores_deque.append(score)\n",
    "        scores.append(score)\n",
    "        print('\\rEpisode {}\\tAverage Score: {:.2f}\\tScore: {:.2f}'.format(i_episode, np.mean(scores_deque), score), end=\"\")\n",
    "        if i_episode % 100 == 0:\n",
    "            torch.save(agent.train_actor.state_dict(), 'checkpoint_actorr.pth')\n",
    "            torch.save(agent.train_critic.state_dict(), 'checkpoint_criticc.pth')\n",
    "            print('\\rEpisode {}\\tAverage Score: {:.2f}'.format(i_episode, np.mean(scores_deque))) \n",
    "        if score >=200:\n",
    "            break\n",
    "    return scores\n",
    "\n",
    "scores = ddpg()\n",
    "\n",
    "fig = plt.figure()\n",
    "ax = fig.add_subplot(111)\n",
    "plt.plot(np.arange(1, len(scores)+1), scores)\n",
    "plt.ylabel('Score')\n",
    "plt.xlabel('Episode #')\n",
    "plt.show()"
   ]
  },
  {
   "cell_type": "code",
   "execution_count": 7,
   "metadata": {
    "colab": {},
    "colab_type": "code",
    "id": "rxW6OHXIZRZI"
   },
   "outputs": [],
   "source": [
    "agent.train_actor.load_state_dict(torch.load('checkpoint_actorr.pth', map_location={'cuda:0': 'cpu'}))\n",
    "agent.train_critic.load_state_dict(torch.load('checkpoint_criticc.pth', map_location={'cuda:0': 'cpu'}))\n",
    "\n",
    "state = env.reset()\n",
    "   \n",
    "while True:\n",
    "    action = agent.get_action(state)\n",
    "    env.render()\n",
    "    next_state, reward, done, _ = env.step(action)\n",
    "    state = next_state\n",
    "    if done:\n",
    "        break\n",
    "        \n",
    "env.close()"
   ]
  },
  {
   "cell_type": "code",
   "execution_count": 8,
   "metadata": {
    "colab": {},
    "colab_type": "code",
    "id": "JzE0cZSEZRZ_"
   },
   "outputs": [],
   "source": []
  }
 ],
 "metadata": {
  "accelerator": "GPU",
  "colab": {
   "collapsed_sections": [],
   "name": "My DDPG.ipynb",
   "provenance": []
  },
  "kernelspec": {
   "display_name": "Python 3",
   "language": "python",
   "name": "python3"
  },
  "language_info": {
   "codemirror_mode": {
    "name": "ipython",
    "version": 3
   },
   "file_extension": ".py",
   "mimetype": "text/x-python",
   "name": "python",
   "nbconvert_exporter": "python",
   "pygments_lexer": "ipython3",
   "version": "3.7.3"
  }
 },
 "nbformat": 4,
 "nbformat_minor": 1
}
